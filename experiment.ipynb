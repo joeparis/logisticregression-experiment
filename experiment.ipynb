{
 "cells": [
  {
   "cell_type": "markdown",
   "metadata": {},
   "source": [
    "# LogisticRegression Experiment"
   ]
  },
  {
   "cell_type": "markdown",
   "metadata": {},
   "source": [
    "1. Import all required libraries"
   ]
  },
  {
   "cell_type": "code",
   "execution_count": 6,
   "metadata": {},
   "outputs": [],
   "source": [
    "import pandas as pd\n",
    "\n",
    "from sklearn.feature_selection import RFE\n",
    "from sklearn.linear_model import LogisticRegression\n",
    "from sklearn.metrics import accuracy_score\n",
    "from sklearn.model_selection import train_test_split\n",
    "from sklearn.preprocessing import StandardScaler"
   ]
  },
  {
   "cell_type": "markdown",
   "metadata": {},
   "source": [
    "2. Check versions"
   ]
  },
  {
   "cell_type": "code",
   "execution_count": 14,
   "metadata": {},
   "outputs": [
    {
     "name": "stdout",
     "output_type": "stream",
     "text": [
      "Python version: 3.9.7 (default, Feb  8 2024, 09:34:49) \n",
      "[GCC 11.4.0]\n",
      "\n",
      "pandas version: 1.3.4\n",
      "numpy version: 1.19.5\n",
      "scikit-learn version: 1.0\n",
      "\n",
      "Solver being used: 'lbfgs'\n"
     ]
    }
   ],
   "source": [
    "import sys\n",
    "import numpy as np\n",
    "import sklearn\n",
    "\n",
    "print(f\"Python version: {sys.version}\")  # target is 3.9.7\n",
    "print()\n",
    "print(f\"pandas version: {pd.__version__}\")  # target is 1.3.4\n",
    "print(f\"numpy version: {np.__version__}\")  # target is 1.19.5\n",
    "print(f\"scikit-learn version: {sklearn.__version__}\")  # target is 1.0.0\n",
    "print()\n",
    "print(f\"Solver being used: '{LogisticRegression().solver}'\")"
   ]
  },
  {
   "cell_type": "markdown",
   "metadata": {},
   "source": [
    "3. Train the model"
   ]
  },
  {
   "cell_type": "code",
   "execution_count": 23,
   "metadata": {},
   "outputs": [],
   "source": [
    "diabetes_df = pd.read_csv(\"pima_indians_diabetes.csv\")\n",
    "# diabetes_df = diabetes_df.drop([\"pregnant\"], axis=1)\n",
    "\n",
    "y = diabetes_df[\"test\"]\n",
    "X = diabetes_df.drop(\"test\", axis=1)\n",
    "X_train, X_test, y_train, y_test = train_test_split(X, y, test_size=0.3)"
   ]
  },
  {
   "cell_type": "markdown",
   "metadata": {},
   "source": [
    "3. Fit the model and "
   ]
  },
  {
   "cell_type": "code",
   "execution_count": 24,
   "metadata": {},
   "outputs": [
    {
     "name": "stdout",
     "output_type": "stream",
     "text": [
      "Fitting estimator with 8 features.\n",
      "Fitting estimator with 7 features.\n",
      "Fitting estimator with 6 features.\n",
      "Fitting estimator with 5 features.\n",
      "Fitting estimator with 4 features.\n",
      "{'pregnant': 2, 'glucose': 3, 'diastolic': 5, 'triceps': 4, 'insulin': 6, 'bmi': 1, 'family': 1, 'age': 1}\n",
      "Index(['bmi', 'family', 'age'], dtype='object')\n",
      "72.9% accuracy on test set.\n"
     ]
    }
   ],
   "source": [
    "scaler = StandardScaler()\n",
    "lr = LogisticRegression()\n",
    "\n",
    "rfe = RFE(estimator=LogisticRegression(max_iter=500), n_features_to_select=3, verbose=1)\n",
    "\n",
    "rfe.fit(X_train, y_train)\n",
    "\n",
    "print(dict(zip(X.columns, rfe.ranking_)))\n",
    "\n",
    "print(X.columns[rfe.support_])\n",
    "\n",
    "acc = accuracy_score(y_test, rfe.predict(X_test))\n",
    "print(f\"{acc:.1%} accuracy on test set.\")"
   ]
  },
  {
   "cell_type": "markdown",
   "metadata": {},
   "source": [
    "And... I'm still not getting the same result as datacamp."
   ]
  }
 ],
 "metadata": {
  "kernelspec": {
   "display_name": ".venv",
   "language": "python",
   "name": "python3"
  },
  "language_info": {
   "codemirror_mode": {
    "name": "ipython",
    "version": 3
   },
   "file_extension": ".py",
   "mimetype": "text/x-python",
   "name": "python",
   "nbconvert_exporter": "python",
   "pygments_lexer": "ipython3",
   "version": "3.9.7"
  }
 },
 "nbformat": 4,
 "nbformat_minor": 2
}
